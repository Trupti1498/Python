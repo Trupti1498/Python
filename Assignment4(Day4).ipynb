{
 "cells": [
  {
   "cell_type": "code",
   "execution_count": 3,
   "metadata": {},
   "outputs": [
    {
     "name": "stdout",
     "output_type": "stream",
     "text": [
      "Enter a substring :we\n",
      "5\n",
      "14\n",
      "24\n",
      "27\n"
     ]
    }
   ],
   "source": [
    "#Assignment 1: Finding the index of substring from string:'what we think we become'\n",
    "\n",
    "str=\"what we think we become we;we are python programmer\"\n",
    "str1=input(\"Enter a substring :\")\n",
    "\n",
    "for i in range(len(str)-1):\n",
    "    if(str[i]+str[i+1])==str1:\n",
    "        print(i)\n",
    "        i+=1\n",
    "        "
   ]
  },
  {
   "cell_type": "code",
   "execution_count": 10,
   "metadata": {},
   "outputs": [
    {
     "name": "stdout",
     "output_type": "stream",
     "text": [
      "we are pthon programmer: is lower?  True\n",
      "we are pthon programmer:is upper?  False\n",
      "lower: is lower? True\n",
      "Upper : is upper?  False\n"
     ]
    }
   ],
   "source": [
    "#Assignment 2: IsLower() and Isupper()\n",
    "\n",
    "low=\"lower\"\n",
    "upp=\"Upper\"\n",
    "str=\"we are pthon programmer\"\n",
    "\n",
    "print(\"we are pthon programmer: is lower? \",str.islower())\n",
    "print(\"we are pthon programmer:is upper? \",str.isupper())\n",
    "\n",
    "print(\"lower: is lower?\",low.islower())\n",
    "print(\"Upper : is upper? \",upp.isupper())\n"
   ]
  },
  {
   "cell_type": "code",
   "execution_count": null,
   "metadata": {},
   "outputs": [],
   "source": []
  }
 ],
 "metadata": {
  "kernelspec": {
   "display_name": "Python 3",
   "language": "python",
   "name": "python3"
  },
  "language_info": {
   "codemirror_mode": {
    "name": "ipython",
    "version": 3
   },
   "file_extension": ".py",
   "mimetype": "text/x-python",
   "name": "python",
   "nbconvert_exporter": "python",
   "pygments_lexer": "ipython3",
   "version": "3.7.6"
  }
 },
 "nbformat": 4,
 "nbformat_minor": 4
}
