{
 "cells": [
  {
   "cell_type": "code",
   "execution_count": 3,
   "metadata": {},
   "outputs": [
    {
     "name": "stdout",
     "output_type": "stream",
     "text": [
      "List is: [0, 1, 2, 10, 4, 1, 0, 56, 2, 0, 1, 3, 0, 56, 0, 4]\n",
      "Sorted list is: [0, 0, 0, 0, 0, 1, 1, 1, 2, 2, 3, 4, 4, 10, 56, 56]\n",
      "Final Output : [1, 1, 1, 2, 2, 3, 4, 4, 10, 56, 56, 0, 0, 0, 0, 0]\n"
     ]
    }
   ],
   "source": [
    "#Assignment1:Sort List in Increasing Order but put all zeros at the end of list:\n",
    "\n",
    "list1=[0,1,2,10,4,1,0,56,2,0,1,3,0,56,0,4]\n",
    "c=0\n",
    "print(\"List is:\",list1)\n",
    "\n",
    "list1.sort()\n",
    "\n",
    "print(\"Sorted list is:\",list1)\n",
    "\n",
    "for i in range(len(list1)-1):\n",
    "    if list1[i]==0:\n",
    "        list1.pop(0)\n",
    "        list1.append(0)\n",
    "        \n",
    "        \n",
    "\n",
    "print(\"Final Output :\",list1)\n",
    "\n"
   ]
  },
  {
   "cell_type": "code",
   "execution_count": 4,
   "metadata": {},
   "outputs": [
    {
     "name": "stdout",
     "output_type": "stream",
     "text": [
      "Sorted List is:  [5, 10, 15, 20, 25, 35, 40, 45, 60, 60, 70, 80]\n"
     ]
    }
   ],
   "source": [
    "#Assignment2:Merge Two given list and sort them using 1 loop without using sort():\n",
    "\n",
    "list1=[10,20,40,60,70,80]\n",
    "list2=[5,15,25,35,45,60]\n",
    "\n",
    "i=0\n",
    "\n",
    "list3=list1+list2\n",
    "\n",
    "length=len(list3)\n",
    "\n",
    "\n",
    "while i<length-1:\n",
    "    if list3[i]>list3[i+1]:\n",
    "        temp=list3[i]\n",
    "        list3[i]=list3[i+1]\n",
    "        list3[i+1]=temp\n",
    "        i=-1\n",
    "    i+=1\n",
    "   \n",
    "    \n",
    "\n",
    "\n",
    "print(\"Sorted List is: \",list3)\n"
   ]
  },
  {
   "cell_type": "code",
   "execution_count": null,
   "metadata": {},
   "outputs": [],
   "source": []
  }
 ],
 "metadata": {
  "kernelspec": {
   "display_name": "Python 3",
   "language": "python",
   "name": "python3"
  },
  "language_info": {
   "codemirror_mode": {
    "name": "ipython",
    "version": 3
   },
   "file_extension": ".py",
   "mimetype": "text/x-python",
   "name": "python",
   "nbconvert_exporter": "python",
   "pygments_lexer": "ipython3",
   "version": "3.7.6"
  }
 },
 "nbformat": 4,
 "nbformat_minor": 4
}
